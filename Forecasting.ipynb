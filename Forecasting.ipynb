{
 "cells": [
  {
   "cell_type": "code",
   "execution_count": 51,
   "metadata": {},
   "outputs": [],
   "source": [
    "import pandas as pd\n",
    "import numpy as np\n",
    "from sklearn.metrics import mean_absolute_error,mean_squared_error\n",
    "from sklearn.preprocessing import MinMaxScaler\n",
    "from tcn import TCN\n",
    "from tensorflow.keras.layers import Dense,Reshape\n",
    "\n",
    "from scipy.signal import savgol_filter\n",
    "import matplotlib.pyplot as plt\n",
    "from tensorflow.keras import Sequential\n",
    "from sklearn.preprocessing import StandardScaler,MinMaxScaler\n",
    "import logging\n",
    "logging.getLogger('tensorflow').disabled = True"
   ]
  },
  {
   "cell_type": "code",
   "execution_count": 2,
   "metadata": {},
   "outputs": [],
   "source": [
    "# df = pd.read_csv('combined.csv').set_index(['State Name','Year'])\n",
    "# state = 'Alabama'\n",
    "# column = 'Asthma'\n",
    "\n",
    "# df = df.iloc[:,-6:]"
   ]
  },
  {
   "cell_type": "code",
   "execution_count": 3,
   "metadata": {},
   "outputs": [],
   "source": [
    "disease_df = pd.read_csv('disease.csv').set_index(['State Name','Year'])\n",
    "air_df = pd.read_csv('air.csv').set_index(['State Name','Year'])"
   ]
  },
  {
   "cell_type": "code",
   "execution_count": 4,
   "metadata": {},
   "outputs": [],
   "source": [
    "deaths_df = pd.read_csv('deathonly.csv', dtype = {'YEAR':np.int64})\n",
    "deaths_df['State Name'] = deaths_df.URL.str.split(\"/\").apply(lambda x: x[4].capitalize() )\n",
    "\n",
    "deaths_df = deaths_df.rename(columns = {'YEAR':'Year'})\n",
    "\n",
    "deaths_df = deaths_df[['Year','State Name','RATE']].set_index(['State Name','Year']).sort_index()\n",
    "deaths_df = deaths_df.rename(columns = {'RATE':'Chronic respiratory diseases'})\n",
    "deaths_df = deaths_df +15"
   ]
  },
  {
   "cell_type": "code",
   "execution_count": 5,
   "metadata": {},
   "outputs": [],
   "source": [
    "df = pd.concat([deaths_df,disease_df[['Chronic respiratory diseases']]]).sort_index()"
   ]
  },
  {
   "cell_type": "code",
   "execution_count": 6,
   "metadata": {},
   "outputs": [],
   "source": [
    "df = df.merge(air_df , on = ['State Name','Year'])"
   ]
  },
  {
   "cell_type": "code",
   "execution_count": 54,
   "metadata": {},
   "outputs": [],
   "source": [
    "future_window = 6\n",
    "lookback_window = 10"
   ]
  },
  {
   "cell_type": "code",
   "execution_count": 55,
   "metadata": {},
   "outputs": [],
   "source": [
    "def create_windows(data, lookback_window,future_window):\n",
    "    X, y = [], []\n",
    "    for i in range(lookback_window, len(data)-future_window):\n",
    "        X.append(data[i - lookback_window:i])\n",
    "        y.append(data[i:i+future_window])\n",
    "    X = np.array(X)\n",
    "    y = np.array(y)\n",
    "    return X, y\n",
    "\n",
    "def build_forecast_model(input_shape,output_shape):\n",
    "    model = Sequential(\n",
    "    layers=[\n",
    "        TCN(input_shape=(input_shape),\n",
    "        nb_filters=128,\n",
    "        kernel_size=3,\n",
    "        return_sequences=False\n",
    "        ), \n",
    "        Dense(output_shape)  # output.shape = (batch, output_timesteps, output_dim)\n",
    "    ]\n",
    "    )\n",
    "    model.compile('adam', 'mae')\n",
    "    return model\n",
    "\n",
    "\n",
    "def forecast_variable(df):\n",
    "    data = df.values\n",
    "    scaler = StandardScaler()#MinMaxScaler(feature_range= (-1,1))\n",
    "    train_df = df.values.reshape(-1,1)\n",
    "    test_df = data[-future_window:].reshape(-1,1)\n",
    "    train_data = scaler.fit_transform(train_df)\n",
    "    X_test = scaler.transform(test_df)\n",
    "    \n",
    "    \n",
    "    X_train,y_train = create_windows(train_data, lookback_window,future_window)\n",
    "    \n",
    "    \n",
    "    input_shape = (lookback_window, 1)\n",
    "    output_shape = future_window\n",
    "    \n",
    "    model = build_forecast_model(input_shape,output_shape)\n",
    "    history = model.fit(X_train, y_train, epochs=100, verbose=0)\n",
    "    forecast = model.predict(X_test) # forecated values\n",
    "    y_pred = forecast[:,-1] #taking only the last value\n",
    "    y_pred = scaler.inverse_transform(y_pred.reshape(-1,1))  \n",
    "    years = list(df.index) + list(np.arange(max(df.index)+ 1,max(df.index) + future_window + 1))\n",
    "    new_df = pd.Series(index = years,dtype = np.float64)\n",
    "    new_df.index.name = 'Year'\n",
    "    new_df.iloc[:-future_window] = df.values\n",
    "    new_df.iloc[-future_window:] = y_pred.reshape(-1)\n",
    "    return new_df\n",
    "\n",
    "def evaluate(test_data,y_pred):\n",
    "    mae = mean_absolute_error(test_data,y_pred)\n",
    "    mse = mean_squared_error(test_data,y_pred)\n",
    "    rmse = np.sqrt(mse)\n",
    "    return mae, rmse\n",
    "\n",
    "def forecast_state(df):\n",
    "    state = df.index[0][0]\n",
    "    df = df.loc[state]\n",
    "    future_df = df.apply(lambda x: forecast_variable(x))\n",
    "    return future_df"
   ]
  },
  {
   "cell_type": "code",
   "execution_count": 56,
   "metadata": {
    "scrolled": false
   },
   "outputs": [],
   "source": [
    "forecasted_df = df.groupby('State Name').apply(lambda x: forecast_state(x))"
   ]
  },
  {
   "cell_type": "code",
   "execution_count": 57,
   "metadata": {},
   "outputs": [
    {
     "data": {
      "text/html": [
       "<div>\n",
       "<style scoped>\n",
       "    .dataframe tbody tr th:only-of-type {\n",
       "        vertical-align: middle;\n",
       "    }\n",
       "\n",
       "    .dataframe tbody tr th {\n",
       "        vertical-align: top;\n",
       "    }\n",
       "\n",
       "    .dataframe thead th {\n",
       "        text-align: right;\n",
       "    }\n",
       "</style>\n",
       "<table border=\"1\" class=\"dataframe\">\n",
       "  <thead>\n",
       "    <tr style=\"text-align: right;\">\n",
       "      <th></th>\n",
       "      <th></th>\n",
       "      <th>PM10 Total 0-10um STP</th>\n",
       "      <th>Sulfur dioxide</th>\n",
       "    </tr>\n",
       "    <tr>\n",
       "      <th>State Name</th>\n",
       "      <th>Year</th>\n",
       "      <th></th>\n",
       "      <th></th>\n",
       "    </tr>\n",
       "  </thead>\n",
       "  <tbody>\n",
       "    <tr>\n",
       "      <th rowspan=\"5\" valign=\"top\">Alabama</th>\n",
       "      <th>1982</th>\n",
       "      <td>29.924603</td>\n",
       "      <td>10.323130</td>\n",
       "    </tr>\n",
       "    <tr>\n",
       "      <th>1983</th>\n",
       "      <td>35.640561</td>\n",
       "      <td>10.839509</td>\n",
       "    </tr>\n",
       "    <tr>\n",
       "      <th>1984</th>\n",
       "      <td>35.405204</td>\n",
       "      <td>8.745030</td>\n",
       "    </tr>\n",
       "    <tr>\n",
       "      <th>1985</th>\n",
       "      <td>43.588198</td>\n",
       "      <td>8.325578</td>\n",
       "    </tr>\n",
       "    <tr>\n",
       "      <th>1986</th>\n",
       "      <td>45.213074</td>\n",
       "      <td>10.341658</td>\n",
       "    </tr>\n",
       "    <tr>\n",
       "      <th>...</th>\n",
       "      <th>...</th>\n",
       "      <td>...</td>\n",
       "      <td>...</td>\n",
       "    </tr>\n",
       "    <tr>\n",
       "      <th rowspan=\"5\" valign=\"top\">Arkansas</th>\n",
       "      <th>2021</th>\n",
       "      <td>18.412060</td>\n",
       "      <td>3.491275</td>\n",
       "    </tr>\n",
       "    <tr>\n",
       "      <th>2022</th>\n",
       "      <td>17.081846</td>\n",
       "      <td>3.447814</td>\n",
       "    </tr>\n",
       "    <tr>\n",
       "      <th>2023</th>\n",
       "      <td>15.908184</td>\n",
       "      <td>3.405563</td>\n",
       "    </tr>\n",
       "    <tr>\n",
       "      <th>2024</th>\n",
       "      <td>15.975808</td>\n",
       "      <td>3.405894</td>\n",
       "    </tr>\n",
       "    <tr>\n",
       "      <th>2025</th>\n",
       "      <td>15.089038</td>\n",
       "      <td>3.433710</td>\n",
       "    </tr>\n",
       "  </tbody>\n",
       "</table>\n",
       "<p>90 rows × 2 columns</p>\n",
       "</div>"
      ],
      "text/plain": [
       "                 PM10 Total 0-10um STP  Sulfur dioxide\n",
       "State Name Year                                       \n",
       "Alabama    1982              29.924603       10.323130\n",
       "           1983              35.640561       10.839509\n",
       "           1984              35.405204        8.745030\n",
       "           1985              43.588198        8.325578\n",
       "           1986              45.213074       10.341658\n",
       "...                                ...             ...\n",
       "Arkansas   2021              18.412060        3.491275\n",
       "           2022              17.081846        3.447814\n",
       "           2023              15.908184        3.405563\n",
       "           2024              15.975808        3.405894\n",
       "           2025              15.089038        3.433710\n",
       "\n",
       "[90 rows x 2 columns]"
      ]
     },
     "execution_count": 57,
     "metadata": {},
     "output_type": "execute_result"
    }
   ],
   "source": [
    "forecasted_df "
   ]
  },
  {
   "cell_type": "code",
   "execution_count": null,
   "metadata": {},
   "outputs": [],
   "source": []
  }
 ],
 "metadata": {
  "kernelspec": {
   "display_name": "Python 3",
   "language": "python",
   "name": "python3"
  },
  "language_info": {
   "codemirror_mode": {
    "name": "ipython",
    "version": 3
   },
   "file_extension": ".py",
   "mimetype": "text/x-python",
   "name": "python",
   "nbconvert_exporter": "python",
   "pygments_lexer": "ipython3",
   "version": "3.8.6"
  }
 },
 "nbformat": 4,
 "nbformat_minor": 4
}
